{
  "nbformat": 4,
  "nbformat_minor": 0,
  "metadata": {
    "colab": {
      "provenance": []
    },
    "kernelspec": {
      "name": "python3",
      "display_name": "Python 3"
    },
    "language_info": {
      "name": "python"
    }
  },
  "cells": [
    {
      "cell_type": "code",
      "execution_count": null,
      "metadata": {
        "id": "fEPRvJrTH1qe"
      },
      "outputs": [],
      "source": [
        "paragraph = 'Machine learning is a branch of artificial intelligence (AI) and computer science which focuses on the use of data and algorithms to imitate the way that humans learn, gradually improving its accuracy. IBM has a rich history with machine learning. One of its own, Arthur Samuel, is credited for coining the term, “machine learning” with his research (link resides outside IBM) around the game of checkers. Robert Nealey, the self-proclaimed checkers master, played the game on an IBM 7094 computer in 1962, and he lost to the computer. Compared to what can be done today, this feat seems trivial, but it’s considered a major milestone in the field of artificial intelligence.  Over the last couple of decades, the technological advances in storage and processing power have enabled some innovative products based on machine learning, such as Netflix’s recommendation engine and self-driving cars. Machine learning is an important component of the growing field of data science. Through the use of statistical methods, algorithms are trained to make classifications or predictions, and to uncover key insights in data mining projects. These insights subsequently drive decision making within applications and businesses, ideally impacting key growth metrics. As big data continues to expand and grow, the market demand for data scientists will increase. They will be required to help identify the most relevant business questions and the data to answer them. Machine learning algorithms are typically created using frameworks that accelerate solution development, such as TensorFlow and PyTorch.'"
      ]
    },
    {
      "cell_type": "markdown",
      "source": [
        "##1. Using Python String inbuilt function .split()"
      ],
      "metadata": {
        "id": "7nK9QtzrY1xq"
      }
    },
    {
      "cell_type": "code",
      "source": [
        "sentences = paragraph.split(\".\")"
      ],
      "metadata": {
        "id": "8IcORArBIaOA"
      },
      "execution_count": null,
      "outputs": []
    },
    {
      "cell_type": "code",
      "source": [
        "sentences[0:5]"
      ],
      "metadata": {
        "id": "4QB163b7az19",
        "outputId": "610f04a3-8a0b-4ff5-fb8e-135476aea798",
        "colab": {
          "base_uri": "https://localhost:8080/"
        }
      },
      "execution_count": null,
      "outputs": [
        {
          "output_type": "execute_result",
          "data": {
            "text/plain": [
              "['Machine learning is a branch of artificial intelligence (AI) and computer science which focuses on the use of data and algorithms to imitate the way that humans learn, gradually improving its accuracy',\n",
              " ' IBM has a rich history with machine learning',\n",
              " ' One of its own, Arthur Samuel, is credited for coining the term, “machine learning” with his research (link resides outside IBM) around the game of checkers',\n",
              " ' Robert Nealey, the self-proclaimed checkers master, played the game on an IBM 7094 computer in 1962, and he lost to the computer',\n",
              " ' Compared to what can be done today, this feat seems trivial, but it’s considered a major milestone in the field of artificial intelligence']"
            ]
          },
          "metadata": {},
          "execution_count": 44
        }
      ]
    },
    {
      "cell_type": "code",
      "source": [
        "words = []\n",
        "for sentence in sentences:\n",
        "  for word in sentence.split(\" \"):\n",
        "    if word not in \",.:;/+)(*^%$#@!\":\n",
        "      words.append(word)"
      ],
      "metadata": {
        "id": "1n0lkPG1IrDH"
      },
      "execution_count": null,
      "outputs": []
    },
    {
      "cell_type": "code",
      "source": [
        "words[0:10]"
      ],
      "metadata": {
        "colab": {
          "base_uri": "https://localhost:8080/"
        },
        "id": "PbdXm2OMLUd0",
        "outputId": "71e68235-cbef-4b5b-c931-e007252823fd"
      },
      "execution_count": null,
      "outputs": [
        {
          "output_type": "execute_result",
          "data": {
            "text/plain": [
              "['Machine',\n",
              " 'learning',\n",
              " 'is',\n",
              " 'a',\n",
              " 'branch',\n",
              " 'of',\n",
              " 'artificial',\n",
              " 'intelligence',\n",
              " '(AI)',\n",
              " 'and']"
            ]
          },
          "metadata": {},
          "execution_count": 41
        }
      ]
    },
    {
      "cell_type": "markdown",
      "source": [
        "##2. NLTK for tokenization"
      ],
      "metadata": {
        "id": "6O4L8EU_ZDPb"
      }
    },
    {
      "cell_type": "code",
      "source": [
        "import nltk\n",
        "nltk.download('punkt')"
      ],
      "metadata": {
        "colab": {
          "base_uri": "https://localhost:8080/"
        },
        "id": "DqznHVcIZd9S",
        "outputId": "816b7d9c-1255-4b20-cf49-256bb4388314"
      },
      "execution_count": null,
      "outputs": [
        {
          "output_type": "stream",
          "name": "stderr",
          "text": [
            "[nltk_data] Downloading package punkt to /root/nltk_data...\n",
            "[nltk_data]   Unzipping tokenizers/punkt.zip.\n"
          ]
        },
        {
          "output_type": "execute_result",
          "data": {
            "text/plain": [
              "True"
            ]
          },
          "metadata": {},
          "execution_count": 23
        }
      ]
    },
    {
      "cell_type": "code",
      "source": [
        "from nltk.tokenize import sent_tokenize\n",
        "sentences_nltk = sent_tokenize(paragraph)"
      ],
      "metadata": {
        "id": "jHIT9zZeZIE2"
      },
      "execution_count": null,
      "outputs": []
    },
    {
      "cell_type": "code",
      "source": [
        "sentences_nltk[0:3]"
      ],
      "metadata": {
        "colab": {
          "base_uri": "https://localhost:8080/"
        },
        "id": "emY2E8vdZujA",
        "outputId": "1b4cf8bd-abf6-4e11-ca1c-f998c438a590"
      },
      "execution_count": null,
      "outputs": [
        {
          "output_type": "execute_result",
          "data": {
            "text/plain": [
              "['Machine learning is a branch of artificial intelligence (AI) and computer science which focuses on the use of data and algorithms to imitate the way that humans learn, gradually improving its accuracy.',\n",
              " 'IBM has a rich history with machine learning.',\n",
              " 'One of its own, Arthur Samuel, is credited for coining the term, “machine learning” with his research (link resides outside IBM) around the game of checkers.']"
            ]
          },
          "metadata": {},
          "execution_count": 43
        }
      ]
    },
    {
      "cell_type": "code",
      "source": [
        "from nltk.tokenize import word_tokenize\n",
        "words_nltk = word_tokenize(paragraph)"
      ],
      "metadata": {
        "id": "AT4IoSusZj43"
      },
      "execution_count": null,
      "outputs": []
    },
    {
      "cell_type": "code",
      "source": [
        "words_nltk[0:5]"
      ],
      "metadata": {
        "colab": {
          "base_uri": "https://localhost:8080/"
        },
        "id": "IcIy_xruZtx_",
        "outputId": "507b0303-b5c5-4ef9-fa55-7caa57c55daf"
      },
      "execution_count": null,
      "outputs": [
        {
          "output_type": "execute_result",
          "data": {
            "text/plain": [
              "['Machine', 'learning', 'is', 'a', 'branch']"
            ]
          },
          "metadata": {},
          "execution_count": 42
        }
      ]
    },
    {
      "cell_type": "markdown",
      "source": [
        "##3. Comparing the two"
      ],
      "metadata": {
        "id": "u3pGpeohZ3qz"
      }
    },
    {
      "cell_type": "code",
      "source": [
        "sentences == sentences_nltk"
      ],
      "metadata": {
        "colab": {
          "base_uri": "https://localhost:8080/"
        },
        "id": "lMLLYntbZ6ci",
        "outputId": "c7ddea9a-f006-44a9-cbf6-17a8ac07ea9a"
      },
      "execution_count": null,
      "outputs": [
        {
          "output_type": "execute_result",
          "data": {
            "text/plain": [
              "False"
            ]
          },
          "metadata": {},
          "execution_count": 34
        }
      ]
    },
    {
      "cell_type": "code",
      "source": [
        "words == words_nltk"
      ],
      "metadata": {
        "colab": {
          "base_uri": "https://localhost:8080/"
        },
        "id": "5AugF1H0aJ1C",
        "outputId": "e6371b32-6b67-4f73-8cdc-01463608cd10"
      },
      "execution_count": null,
      "outputs": [
        {
          "output_type": "execute_result",
          "data": {
            "text/plain": [
              "False"
            ]
          },
          "metadata": {},
          "execution_count": 39
        }
      ]
    }
  ]
}