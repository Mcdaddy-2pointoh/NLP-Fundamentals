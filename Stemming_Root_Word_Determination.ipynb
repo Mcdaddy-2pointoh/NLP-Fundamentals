{
  "nbformat": 4,
  "nbformat_minor": 0,
  "metadata": {
    "colab": {
      "provenance": [],
      "collapsed_sections": [
        "7nK9QtzrY1xq",
        "6O4L8EU_ZDPb",
        "u3pGpeohZ3qz"
      ],
      "toc_visible": true
    },
    "kernelspec": {
      "name": "python3",
      "display_name": "Python 3"
    },
    "language_info": {
      "name": "python"
    }
  },
  "cells": [
    {
      "cell_type": "markdown",
      "source": [
        "#I. Prerequisite"
      ],
      "metadata": {
        "id": "o2Gw8jLfbmHz"
      }
    },
    {
      "cell_type": "code",
      "execution_count": null,
      "metadata": {
        "id": "fEPRvJrTH1qe"
      },
      "outputs": [],
      "source": [
        "paragraph = 'Machine learning is a branch of artificial intelligence (AI) and computer science which focuses on the use of data and algorithms to imitate the way that humans learn, gradually improving its accuracy. IBM has a rich history with machine learning. One of its own, Arthur Samuel, is credited for coining the term, “machine learning” with his research (link resides outside IBM) around the game of checkers. Robert Nealey, the self-proclaimed checkers master, played the game on an IBM 7094 computer in 1962, and he lost to the computer. Compared to what can be done today, this feat seems trivial, but it’s considered a major milestone in the field of artificial intelligence.  Over the last couple of decades, the technological advances in storage and processing power have enabled some innovative products based on machine learning, such as Netflix’s recommendation engine and self-driving cars. Machine learning is an important component of the growing field of data science. Through the use of statistical methods, algorithms are trained to make classifications or predictions, and to uncover key insights in data mining projects. These insights subsequently drive decision making within applications and businesses, ideally impacting key growth metrics. As big data continues to expand and grow, the market demand for data scientists will increase. They will be required to help identify the most relevant business questions and the data to answer them. Machine learning algorithms are typically created using frameworks that accelerate solution development, such as TensorFlow and PyTorch.'"
      ]
    },
    {
      "cell_type": "markdown",
      "source": [
        "##1. Using Python String inbuilt function .split()"
      ],
      "metadata": {
        "id": "7nK9QtzrY1xq"
      }
    },
    {
      "cell_type": "code",
      "source": [
        "sentences = paragraph.split(\".\")\n",
        "sentences"
      ],
      "metadata": {
        "colab": {
          "base_uri": "https://localhost:8080/"
        },
        "id": "8IcORArBIaOA",
        "outputId": "30ee818e-1457-4345-ce50-cec21f0a3919"
      },
      "execution_count": null,
      "outputs": [
        {
          "output_type": "execute_result",
          "data": {
            "text/plain": [
              "['Machine learning is a branch of artificial intelligence (AI) and computer science which focuses on the use of data and algorithms to imitate the way that humans learn, gradually improving its accuracy',\n",
              " ' IBM has a rich history with machine learning',\n",
              " ' One of its own, Arthur Samuel, is credited for coining the term, “machine learning” with his research (link resides outside IBM) around the game of checkers',\n",
              " ' Robert Nealey, the self-proclaimed checkers master, played the game on an IBM 7094 computer in 1962, and he lost to the computer',\n",
              " ' Compared to what can be done today, this feat seems trivial, but it’s considered a major milestone in the field of artificial intelligence',\n",
              " '  Over the last couple of decades, the technological advances in storage and processing power have enabled some innovative products based on machine learning, such as Netflix’s recommendation engine and self-driving cars',\n",
              " ' Machine learning is an important component of the growing field of data science',\n",
              " ' Through the use of statistical methods, algorithms are trained to make classifications or predictions, and to uncover key insights in data mining projects',\n",
              " ' These insights subsequently drive decision making within applications and businesses, ideally impacting key growth metrics',\n",
              " ' As big data continues to expand and grow, the market demand for data scientists will increase',\n",
              " ' They will be required to help identify the most relevant business questions and the data to answer them',\n",
              " ' Machine learning algorithms are typically created using frameworks that accelerate solution development, such as TensorFlow and PyTorch',\n",
              " '']"
            ]
          },
          "metadata": {},
          "execution_count": 17
        }
      ]
    },
    {
      "cell_type": "code",
      "source": [
        "words = []\n",
        "for sentence in sentences:\n",
        "  for word in sentence.split(\" \"):\n",
        "    if word not in \",.:;/+)(*^%$#@!\":\n",
        "      words.append(word)"
      ],
      "metadata": {
        "id": "1n0lkPG1IrDH"
      },
      "execution_count": null,
      "outputs": []
    },
    {
      "cell_type": "code",
      "source": [
        "words"
      ],
      "metadata": {
        "colab": {
          "base_uri": "https://localhost:8080/"
        },
        "id": "PbdXm2OMLUd0",
        "outputId": "bcd65b0d-848c-4b8a-e179-13550ac73660"
      },
      "execution_count": null,
      "outputs": [
        {
          "output_type": "execute_result",
          "data": {
            "text/plain": [
              "['Machine',\n",
              " 'learning',\n",
              " 'is',\n",
              " 'a',\n",
              " 'branch',\n",
              " 'of',\n",
              " 'artificial',\n",
              " 'intelligence',\n",
              " '(AI)',\n",
              " 'and',\n",
              " 'computer',\n",
              " 'science',\n",
              " 'which',\n",
              " 'focuses',\n",
              " 'on',\n",
              " 'the',\n",
              " 'use',\n",
              " 'of',\n",
              " 'data',\n",
              " 'and',\n",
              " 'algorithms',\n",
              " 'to',\n",
              " 'imitate',\n",
              " 'the',\n",
              " 'way',\n",
              " 'that',\n",
              " 'humans',\n",
              " 'learn,',\n",
              " 'gradually',\n",
              " 'improving',\n",
              " 'its',\n",
              " 'accuracy',\n",
              " 'IBM',\n",
              " 'has',\n",
              " 'a',\n",
              " 'rich',\n",
              " 'history',\n",
              " 'with',\n",
              " 'machine',\n",
              " 'learning',\n",
              " 'One',\n",
              " 'of',\n",
              " 'its',\n",
              " 'own,',\n",
              " 'Arthur',\n",
              " 'Samuel,',\n",
              " 'is',\n",
              " 'credited',\n",
              " 'for',\n",
              " 'coining',\n",
              " 'the',\n",
              " 'term,',\n",
              " '“machine',\n",
              " 'learning”',\n",
              " 'with',\n",
              " 'his',\n",
              " 'research',\n",
              " '(link',\n",
              " 'resides',\n",
              " 'outside',\n",
              " 'IBM)',\n",
              " 'around',\n",
              " 'the',\n",
              " 'game',\n",
              " 'of',\n",
              " 'checkers',\n",
              " 'Robert',\n",
              " 'Nealey,',\n",
              " 'the',\n",
              " 'self-proclaimed',\n",
              " 'checkers',\n",
              " 'master,',\n",
              " 'played',\n",
              " 'the',\n",
              " 'game',\n",
              " 'on',\n",
              " 'an',\n",
              " 'IBM',\n",
              " '7094',\n",
              " 'computer',\n",
              " 'in',\n",
              " '1962,',\n",
              " 'and',\n",
              " 'he',\n",
              " 'lost',\n",
              " 'to',\n",
              " 'the',\n",
              " 'computer',\n",
              " 'Compared',\n",
              " 'to',\n",
              " 'what',\n",
              " 'can',\n",
              " 'be',\n",
              " 'done',\n",
              " 'today,',\n",
              " 'this',\n",
              " 'feat',\n",
              " 'seems',\n",
              " 'trivial,',\n",
              " 'but',\n",
              " 'it’s',\n",
              " 'considered',\n",
              " 'a',\n",
              " 'major',\n",
              " 'milestone',\n",
              " 'in',\n",
              " 'the',\n",
              " 'field',\n",
              " 'of',\n",
              " 'artificial',\n",
              " 'intelligence',\n",
              " 'Over',\n",
              " 'the',\n",
              " 'last',\n",
              " 'couple',\n",
              " 'of',\n",
              " 'decades,',\n",
              " 'the',\n",
              " 'technological',\n",
              " 'advances',\n",
              " 'in',\n",
              " 'storage',\n",
              " 'and',\n",
              " 'processing',\n",
              " 'power',\n",
              " 'have',\n",
              " 'enabled',\n",
              " 'some',\n",
              " 'innovative',\n",
              " 'products',\n",
              " 'based',\n",
              " 'on',\n",
              " 'machine',\n",
              " 'learning,',\n",
              " 'such',\n",
              " 'as',\n",
              " 'Netflix’s',\n",
              " 'recommendation',\n",
              " 'engine',\n",
              " 'and',\n",
              " 'self-driving',\n",
              " 'cars',\n",
              " 'Machine',\n",
              " 'learning',\n",
              " 'is',\n",
              " 'an',\n",
              " 'important',\n",
              " 'component',\n",
              " 'of',\n",
              " 'the',\n",
              " 'growing',\n",
              " 'field',\n",
              " 'of',\n",
              " 'data',\n",
              " 'science',\n",
              " 'Through',\n",
              " 'the',\n",
              " 'use',\n",
              " 'of',\n",
              " 'statistical',\n",
              " 'methods,',\n",
              " 'algorithms',\n",
              " 'are',\n",
              " 'trained',\n",
              " 'to',\n",
              " 'make',\n",
              " 'classifications',\n",
              " 'or',\n",
              " 'predictions,',\n",
              " 'and',\n",
              " 'to',\n",
              " 'uncover',\n",
              " 'key',\n",
              " 'insights',\n",
              " 'in',\n",
              " 'data',\n",
              " 'mining',\n",
              " 'projects',\n",
              " 'These',\n",
              " 'insights',\n",
              " 'subsequently',\n",
              " 'drive',\n",
              " 'decision',\n",
              " 'making',\n",
              " 'within',\n",
              " 'applications',\n",
              " 'and',\n",
              " 'businesses,',\n",
              " 'ideally',\n",
              " 'impacting',\n",
              " 'key',\n",
              " 'growth',\n",
              " 'metrics',\n",
              " 'As',\n",
              " 'big',\n",
              " 'data',\n",
              " 'continues',\n",
              " 'to',\n",
              " 'expand',\n",
              " 'and',\n",
              " 'grow,',\n",
              " 'the',\n",
              " 'market',\n",
              " 'demand',\n",
              " 'for',\n",
              " 'data',\n",
              " 'scientists',\n",
              " 'will',\n",
              " 'increase',\n",
              " 'They',\n",
              " 'will',\n",
              " 'be',\n",
              " 'required',\n",
              " 'to',\n",
              " 'help',\n",
              " 'identify',\n",
              " 'the',\n",
              " 'most',\n",
              " 'relevant',\n",
              " 'business',\n",
              " 'questions',\n",
              " 'and',\n",
              " 'the',\n",
              " 'data',\n",
              " 'to',\n",
              " 'answer',\n",
              " 'them',\n",
              " 'Machine',\n",
              " 'learning',\n",
              " 'algorithms',\n",
              " 'are',\n",
              " 'typically',\n",
              " 'created',\n",
              " 'using',\n",
              " 'frameworks',\n",
              " 'that',\n",
              " 'accelerate',\n",
              " 'solution',\n",
              " 'development,',\n",
              " 'such',\n",
              " 'as',\n",
              " 'TensorFlow',\n",
              " 'and',\n",
              " 'PyTorch']"
            ]
          },
          "metadata": {},
          "execution_count": 38
        }
      ]
    },
    {
      "cell_type": "markdown",
      "source": [
        "##2. NLTK for tokenization"
      ],
      "metadata": {
        "id": "6O4L8EU_ZDPb"
      }
    },
    {
      "cell_type": "code",
      "source": [
        "import nltk\n",
        "nltk.download('punkt')"
      ],
      "metadata": {
        "colab": {
          "base_uri": "https://localhost:8080/"
        },
        "id": "DqznHVcIZd9S",
        "outputId": "816b7d9c-1255-4b20-cf49-256bb4388314"
      },
      "execution_count": null,
      "outputs": [
        {
          "output_type": "stream",
          "name": "stderr",
          "text": [
            "[nltk_data] Downloading package punkt to /root/nltk_data...\n",
            "[nltk_data]   Unzipping tokenizers/punkt.zip.\n"
          ]
        },
        {
          "output_type": "execute_result",
          "data": {
            "text/plain": [
              "True"
            ]
          },
          "metadata": {},
          "execution_count": 23
        }
      ]
    },
    {
      "cell_type": "code",
      "source": [
        "from nltk.tokenize import sent_tokenize\n",
        "sentences_nltk = sent_tokenize(paragraph)"
      ],
      "metadata": {
        "id": "jHIT9zZeZIE2"
      },
      "execution_count": null,
      "outputs": []
    },
    {
      "cell_type": "code",
      "source": [
        "sentences_nltk"
      ],
      "metadata": {
        "colab": {
          "base_uri": "https://localhost:8080/"
        },
        "id": "emY2E8vdZujA",
        "outputId": "4b6bead1-0a82-4d71-b83e-ef3cd36d9e8f"
      },
      "execution_count": null,
      "outputs": [
        {
          "output_type": "execute_result",
          "data": {
            "text/plain": [
              "['Machine learning is a branch of artificial intelligence (AI) and computer science which focuses on the use of data and algorithms to imitate the way that humans learn, gradually improving its accuracy.',\n",
              " 'IBM has a rich history with machine learning.',\n",
              " 'One of its own, Arthur Samuel, is credited for coining the term, “machine learning” with his research (link resides outside IBM) around the game of checkers.',\n",
              " 'Robert Nealey, the self-proclaimed checkers master, played the game on an IBM 7094 computer in 1962, and he lost to the computer.',\n",
              " 'Compared to what can be done today, this feat seems trivial, but it’s considered a major milestone in the field of artificial intelligence.',\n",
              " 'Over the last couple of decades, the technological advances in storage and processing power have enabled some innovative products based on machine learning, such as Netflix’s recommendation engine and self-driving cars.',\n",
              " 'Machine learning is an important component of the growing field of data science.',\n",
              " 'Through the use of statistical methods, algorithms are trained to make classifications or predictions, and to uncover key insights in data mining projects.',\n",
              " 'These insights subsequently drive decision making within applications and businesses, ideally impacting key growth metrics.',\n",
              " 'As big data continues to expand and grow, the market demand for data scientists will increase.',\n",
              " 'They will be required to help identify the most relevant business questions and the data to answer them.',\n",
              " 'Machine learning algorithms are typically created using frameworks that accelerate solution development, such as TensorFlow and PyTorch.']"
            ]
          },
          "metadata": {},
          "execution_count": 33
        }
      ]
    },
    {
      "cell_type": "code",
      "source": [
        "from nltk.tokenize import word_tokenize\n",
        "words_nltk = word_tokenize(paragraph)"
      ],
      "metadata": {
        "id": "AT4IoSusZj43"
      },
      "execution_count": null,
      "outputs": []
    },
    {
      "cell_type": "code",
      "source": [
        "words_nltk"
      ],
      "metadata": {
        "id": "IcIy_xruZtx_"
      },
      "execution_count": null,
      "outputs": []
    },
    {
      "cell_type": "markdown",
      "source": [
        "##3. Comparing the two"
      ],
      "metadata": {
        "id": "u3pGpeohZ3qz"
      }
    },
    {
      "cell_type": "code",
      "source": [
        "sentences == sentences_nltk"
      ],
      "metadata": {
        "colab": {
          "base_uri": "https://localhost:8080/"
        },
        "id": "lMLLYntbZ6ci",
        "outputId": "c7ddea9a-f006-44a9-cbf6-17a8ac07ea9a"
      },
      "execution_count": null,
      "outputs": [
        {
          "output_type": "execute_result",
          "data": {
            "text/plain": [
              "False"
            ]
          },
          "metadata": {},
          "execution_count": 34
        }
      ]
    },
    {
      "cell_type": "code",
      "source": [
        "words == words_nltk"
      ],
      "metadata": {
        "colab": {
          "base_uri": "https://localhost:8080/"
        },
        "id": "5AugF1H0aJ1C",
        "outputId": "e6371b32-6b67-4f73-8cdc-01463608cd10"
      },
      "execution_count": null,
      "outputs": [
        {
          "output_type": "execute_result",
          "data": {
            "text/plain": [
              "False"
            ]
          },
          "metadata": {},
          "execution_count": 39
        }
      ]
    },
    {
      "cell_type": "markdown",
      "source": [
        "#II. Stemming\n",
        "\n",
        "Two libraries:\n",
        "\n",
        "  1. NLTK\n",
        "  2. SpaCy [industrial]\n",
        "\n",
        "Morphology:\n",
        "\n",
        "  1. Inflational morphing (play => played) [chage of tense]\n",
        "  2. Derivational morphing (computer => computing) [change of type i.e. noun to verb]\n",
        "\n",
        "- Hence a need for root word interest.\n",
        "\n",
        "- Stemming provides meaning for context to train models.\n",
        "\n",
        "- Where the root word combination remains same for a context.\n",
        "\n",
        "- If non stemmed bi grams or tri grams are present then there are too many pairs for the same context. e.g. [playing football], [played, football] & [to play, soccer]\n",
        "\n",
        "How to get stem word:\n",
        "\n",
        "  1. Stemming: Suffix/Prefix removal\n",
        "  2. Lammetization: Context based lammetization\n",
        "\n",
        "*Find places where stemming performs poorly\n",
        "\n",
        "To Implement:\n",
        "  - Portal Stemmer NLTK\n",
        "  - Lammetization NLTK\n",
        "  - Lammetization SpaCy\n",
        "\n",
        "Next Lec:\n",
        "  - Spacy v. NLTK\n",
        "  - Which is better"
      ],
      "metadata": {
        "id": "UXVUm7Y7bqM9"
      }
    },
    {
      "cell_type": "markdown",
      "source": [
        "##a. NLTK"
      ],
      "metadata": {
        "id": "4eKANc4hhCeL"
      }
    },
    {
      "cell_type": "code",
      "source": [
        "import nltk\n",
        "nltk.download('wordnet')\n",
        "nltk.download('omw-1.4')"
      ],
      "metadata": {
        "colab": {
          "base_uri": "https://localhost:8080/"
        },
        "id": "DOUWdWq3fq-z",
        "outputId": "124208f2-b9ba-4df0-f4fa-d3bb6ccbf272"
      },
      "execution_count": null,
      "outputs": [
        {
          "output_type": "stream",
          "name": "stderr",
          "text": [
            "[nltk_data] Downloading package wordnet to /root/nltk_data...\n",
            "[nltk_data]   Package wordnet is already up-to-date!\n",
            "[nltk_data] Downloading package omw-1.4 to /root/nltk_data...\n"
          ]
        },
        {
          "output_type": "execute_result",
          "data": {
            "text/plain": [
              "True"
            ]
          },
          "metadata": {},
          "execution_count": 8
        }
      ]
    },
    {
      "cell_type": "code",
      "source": [
        "from nltk.stem import PorterStemmer\n",
        "porterStemmer = PorterStemmer()\n",
        "words = [\"program\", \"programs\", \"programmer\", \"programming\", \"programmers\"]\n",
        "for w in words:\n",
        "  print(w, \" : \", porterStemmer.stem(w))"
      ],
      "metadata": {
        "colab": {
          "base_uri": "https://localhost:8080/"
        },
        "id": "Eut0M3N2cDKw",
        "outputId": "feaffb25-504d-4df1-d483-75fe2dd7e3c0"
      },
      "execution_count": null,
      "outputs": [
        {
          "output_type": "stream",
          "name": "stdout",
          "text": [
            "program  :  program\n",
            "programs  :  program\n",
            "programmer  :  programm\n",
            "programming  :  program\n",
            "programmers  :  programm\n"
          ]
        }
      ]
    },
    {
      "cell_type": "code",
      "source": [
        "from nltk.stem import WordNetLemmatizer\n",
        "lemmatizer = WordNetLemmatizer()\n",
        "print(\"go :\", lemmatizer.lemmatize(\"went\"))\n",
        "print(\"floccinaucinihilipilification :\", lemmatizer.lemmatize(\"floccinaucinihilipilificatious\"))\n",
        "print(\"defenestrate :\", lemmatizer.lemmatize(\"defenestration\"))\n",
        "print(\"better :\", lemmatizer.lemmatize(\"better\", pos =\"a\"))"
      ],
      "metadata": {
        "colab": {
          "base_uri": "https://localhost:8080/"
        },
        "id": "FTiB8ipAfTjz",
        "outputId": "afeaa85d-1490-4f94-f4e3-dfbbab3bc5bb"
      },
      "execution_count": null,
      "outputs": [
        {
          "output_type": "stream",
          "name": "stdout",
          "text": [
            "go : went\n",
            "floccinaucinihilipilification : floccinaucinihilipilificatious\n",
            "defenestrate : defenestration\n",
            "better : good\n"
          ]
        }
      ]
    },
    {
      "cell_type": "markdown",
      "source": [
        "##b. SpaCy"
      ],
      "metadata": {
        "id": "sgBRrelfhAaP"
      }
    },
    {
      "cell_type": "code",
      "source": [
        "import spacy"
      ],
      "metadata": {
        "id": "3CAOZd2ShHcS",
        "colab": {
          "base_uri": "https://localhost:8080/"
        },
        "outputId": "43377772-63e9-4fd2-d63a-8fe0e5059cdc"
      },
      "execution_count": null,
      "outputs": [
        {
          "output_type": "stream",
          "name": "stderr",
          "text": [
            "/usr/local/lib/python3.8/dist-packages/torch/cuda/__init__.py:497: UserWarning: Can't initialize NVML\n",
            "  warnings.warn(\"Can't initialize NVML\")\n"
          ]
        }
      ]
    },
    {
      "cell_type": "code",
      "source": [
        "load_model = spacy.load(\"en_core_web_sm\", disable = ['parser','ner'])"
      ],
      "metadata": {
        "id": "BFXSFwdJLyl-"
      },
      "execution_count": null,
      "outputs": []
    },
    {
      "cell_type": "code",
      "source": [
        "test = \"went\"\n",
        "test1 = \"floccinaucinihilipilificatious\"\n",
        "test2 = \"defenestration\"\n",
        "test3 = \"better\""
      ],
      "metadata": {
        "id": "6WI3x8RdNE6h"
      },
      "execution_count": null,
      "outputs": []
    },
    {
      "cell_type": "code",
      "source": [
        "root = load_model(test)\n",
        "root1 = load_model(test1)\n",
        "root2 = load_model(test2)\n",
        "root3 = load_model(test3)"
      ],
      "metadata": {
        "id": "aUluQtv6LpE3"
      },
      "execution_count": null,
      "outputs": []
    },
    {
      "cell_type": "code",
      "source": [
        "print(\"go :\", root)\n",
        "print(\"floccinaucinihilipilification :\", root1)\n",
        "print(\"defenestrate :\", root2)\n",
        "print(\"better :\", root3)"
      ],
      "metadata": {
        "colab": {
          "base_uri": "https://localhost:8080/"
        },
        "id": "oLcWBGOCLtAr",
        "outputId": "dd7e3588-06d9-479d-ef43-b086f9ebbbd3"
      },
      "execution_count": null,
      "outputs": [
        {
          "output_type": "stream",
          "name": "stdout",
          "text": [
            "go : went\n",
            "floccinaucinihilipilification : floccinaucinihilipilificatious\n",
            "defenestrate : defenestration\n",
            "better : better\n"
          ]
        }
      ]
    }
  ]
}