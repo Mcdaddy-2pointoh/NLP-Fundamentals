{
  "nbformat": 4,
  "nbformat_minor": 0,
  "metadata": {
    "colab": {
      "provenance": []
    },
    "kernelspec": {
      "name": "python3",
      "display_name": "Python 3"
    },
    "language_info": {
      "name": "python"
    }
  },
  "cells": [
    {
      "cell_type": "markdown",
      "source": [
        "#1. Import NLTK"
      ],
      "metadata": {
        "id": "r9V5HIKeghvG"
      }
    },
    {
      "cell_type": "code",
      "source": [
        "import nltk\n",
        "nltk.download('stopwords')\n",
        "nltk.download('punkt')\n",
        "nltk.download('brown')\n",
        "nltk.download('averaged_perceptron_tagger')\n",
        "nltk.download('universal_tagset')"
      ],
      "metadata": {
        "colab": {
          "base_uri": "https://localhost:8080/"
        },
        "id": "r6zYcSHzhJRO",
        "outputId": "eb23006a-9bcd-440d-a98e-7a145b2bad30"
      },
      "execution_count": null,
      "outputs": [
        {
          "output_type": "stream",
          "name": "stderr",
          "text": [
            "[nltk_data] Downloading package stopwords to /root/nltk_data...\n",
            "[nltk_data]   Package stopwords is already up-to-date!\n",
            "[nltk_data] Downloading package punkt to /root/nltk_data...\n",
            "[nltk_data]   Package punkt is already up-to-date!\n",
            "[nltk_data] Downloading package brown to /root/nltk_data...\n",
            "[nltk_data]   Package brown is already up-to-date!\n",
            "[nltk_data] Downloading package averaged_perceptron_tagger to\n",
            "[nltk_data]     /root/nltk_data...\n",
            "[nltk_data]   Package averaged_perceptron_tagger is already up-to-\n",
            "[nltk_data]       date!\n",
            "[nltk_data] Downloading package universal_tagset to /root/nltk_data...\n",
            "[nltk_data]   Unzipping taggers/universal_tagset.zip.\n"
          ]
        },
        {
          "output_type": "execute_result",
          "data": {
            "text/plain": [
              "True"
            ]
          },
          "metadata": {},
          "execution_count": 25
        }
      ]
    },
    {
      "cell_type": "markdown",
      "source": [
        "#2. Tag words"
      ],
      "metadata": {
        "id": "SW193S04jD01"
      }
    },
    {
      "cell_type": "code",
      "source": [
        "import nltk\n",
        "from nltk.corpus import stopwords\n",
        "from nltk.tokenize import word_tokenize,from nltk.corpus import brown\n",
        ">>> brown_news_tagged = brown.tagged_words(categories='news', tagset='universal') sent_tokenize\n",
        "stop_words = set(stopwords.words('english'))\n",
        "\n",
        "txt = \"Rhea Seddon (born 1947) is an American surgeon and retired astronaut for NASA. After being selected as part of the first group of NASA astronauts to include women in 1978, she flew on three Space Shuttle flights, as mission specialist on STS-51-D and STS-40, and as payload commander for STS-58, accumulating over 722 hours in space. On these flights, she built repair tools for a US Navy satellite and performed medical experiments. A graduate of the University of California, Berkeley, and the University of Tennessee College of Medicine, Seddon was awarded her doctor of medicine degree in 1973. \"\n",
        "\n",
        "# sent_tokenize is one of instances of\n",
        "# PunktSentenceTokenizer from the nltk.tokenize.punkt module\n",
        "\n",
        "tokenized = sent_tokenize(txt)\n",
        "for i in tokenized:\n",
        "  wordsList = nltk.word_tokenize(i)\n",
        "  wordsList = [w for w in wordsList if not w in stop_words]\n",
        "  tagged = nltk.pos_tag(wordsList)\n",
        "  for word in tagged:\n",
        "    print(word)"
      ],
      "metadata": {
        "colab": {
          "base_uri": "https://localhost:8080/"
        },
        "id": "tewHPhVghKHx",
        "outputId": "82449566-ad98-40e9-9424-446aa08dd902"
      },
      "execution_count": null,
      "outputs": [
        {
          "output_type": "stream",
          "name": "stdout",
          "text": [
            "('Rhea', 'NNP')\n",
            "('Seddon', 'NNP')\n",
            "('(', '(')\n",
            "('born', 'JJ')\n",
            "('1947', 'CD')\n",
            "(')', ')')\n",
            "('American', 'NNP')\n",
            "('surgeon', 'NN')\n",
            "('retired', 'VBD')\n",
            "('astronaut', 'JJ')\n",
            "('NASA', 'NNP')\n",
            "('.', '.')\n",
            "('After', 'IN')\n",
            "('selected', 'VBN')\n",
            "('part', 'NN')\n",
            "('first', 'RB')\n",
            "('group', 'NN')\n",
            "('NASA', 'NNP')\n",
            "('astronauts', 'VBZ')\n",
            "('include', 'VBP')\n",
            "('women', 'NNS')\n",
            "('1978', 'CD')\n",
            "(',', ',')\n",
            "('flew', 'VBD')\n",
            "('three', 'CD')\n",
            "('Space', 'NNP')\n",
            "('Shuttle', 'NNP')\n",
            "('flights', 'NNS')\n",
            "(',', ',')\n",
            "('mission', 'NN')\n",
            "('specialist', 'NN')\n",
            "('STS-51-D', 'NNP')\n",
            "('STS-40', 'NNP')\n",
            "(',', ',')\n",
            "('payload', 'NN')\n",
            "('commander', 'NN')\n",
            "('STS-58', 'NNP')\n",
            "(',', ',')\n",
            "('accumulating', 'VBG')\n",
            "('722', 'CD')\n",
            "('hours', 'NNS')\n",
            "('space', 'NN')\n",
            "('.', '.')\n",
            "('On', 'IN')\n",
            "('flights', 'NNS')\n",
            "(',', ',')\n",
            "('built', 'VBN')\n",
            "('repair', 'NN')\n",
            "('tools', 'NNS')\n",
            "('US', 'NNP')\n",
            "('Navy', 'NNP')\n",
            "('satellite', 'NN')\n",
            "('performed', 'VBD')\n",
            "('medical', 'JJ')\n",
            "('experiments', 'NNS')\n",
            "('.', '.')\n",
            "('A', 'DT')\n",
            "('graduate', 'NN')\n",
            "('University', 'NNP')\n",
            "('California', 'NNP')\n",
            "(',', ',')\n",
            "('Berkeley', 'NNP')\n",
            "(',', ',')\n",
            "('University', 'NNP')\n",
            "('Tennessee', 'NNP')\n",
            "('College', 'NNP')\n",
            "('Medicine', 'NNP')\n",
            "(',', ',')\n",
            "('Seddon', 'NNP')\n",
            "('awarded', 'VBD')\n",
            "('doctor', 'NN')\n",
            "('medicine', 'NN')\n",
            "('degree', 'NN')\n",
            "('1973', 'CD')\n",
            "('.', '.')\n"
          ]
        }
      ]
    },
    {
      "cell_type": "code",
      "source": [
        "from nltk.corpus import brown\n",
        "brown_news_tagged = brown.tagged_words(categories='news', tagset='universal')"
      ],
      "metadata": {
        "id": "WBsYw7BCp3FO"
      },
      "execution_count": null,
      "outputs": []
    },
    {
      "cell_type": "code",
      "source": [
        "word_tag_pairs = nltk.bigrams(brown_news_tagged)\n",
        "noun_preceders = [a[1] for (a, b) in word_tag_pairs if b[1] == 'NOUN']\n",
        "fdist = nltk.FreqDist(noun_preceders)\n",
        "[tag for (tag, _) in fdist.most_common()]"
      ],
      "metadata": {
        "colab": {
          "base_uri": "https://localhost:8080/"
        },
        "id": "c9nyVUvipjq2",
        "outputId": "d7b22a85-deae-47b6-973e-ac5fd822a795"
      },
      "execution_count": null,
      "outputs": [
        {
          "output_type": "execute_result",
          "data": {
            "text/plain": [
              "['NOUN',\n",
              " 'DET',\n",
              " 'ADJ',\n",
              " 'ADP',\n",
              " '.',\n",
              " 'VERB',\n",
              " 'CONJ',\n",
              " 'NUM',\n",
              " 'ADV',\n",
              " 'PRT',\n",
              " 'PRON',\n",
              " 'X']"
            ]
          },
          "metadata": {},
          "execution_count": 26
        }
      ]
    },
    {
      "cell_type": "code",
      "source": [
        "tag_fd = nltk.FreqDist(tag for (word, tag) in brown_news_tagged)\n",
        "tag_fd.most_common()"
      ],
      "metadata": {
        "colab": {
          "base_uri": "https://localhost:8080/"
        },
        "id": "z-YWQEcTqI6q",
        "outputId": "f315fcf5-87b3-4bf2-a763-ff97cf29ef02"
      },
      "execution_count": null,
      "outputs": [
        {
          "output_type": "execute_result",
          "data": {
            "text/plain": [
              "[('NOUN', 30654),\n",
              " ('VERB', 14399),\n",
              " ('ADP', 12355),\n",
              " ('.', 11928),\n",
              " ('DET', 11389),\n",
              " ('ADJ', 6706),\n",
              " ('ADV', 3349),\n",
              " ('CONJ', 2717),\n",
              " ('PRON', 2535),\n",
              " ('PRT', 2264),\n",
              " ('NUM', 2166),\n",
              " ('X', 92)]"
            ]
          },
          "metadata": {},
          "execution_count": 27
        }
      ]
    }
  ]
}